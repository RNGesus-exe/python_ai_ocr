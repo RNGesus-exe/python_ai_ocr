{
  "cells": [
    {
      "cell_type": "code",
      "execution_count": 1,
      "metadata": {
        "id": "mbCmQVhMXgVa"
      },
      "outputs": [
        {
          "name": "stderr",
          "output_type": "stream",
          "text": [
            "/usr/lib/python3.12/site-packages/torch/cuda/__init__.py:619: UserWarning: Can't initialize NVML\n",
            "  warnings.warn(\"Can't initialize NVML\")\n"
          ]
        }
      ],
      "source": [
        "import torch\n",
        "import torch.nn as nn\n",
        "import torchvision.transforms as transforms\n",
        "from torchvision.datasets import EMNIST\n",
        "# import torch.optim as optim\n",
        "# from torch.utils.data.sampler import SubsetRandomSampler\n",
        "import matplotlib.pyplot as plt\n",
        "# from PIL import Image, ImageOps\n",
        "import numpy as np\n",
        "import cv2"
      ]
    },
    {
      "cell_type": "code",
      "execution_count": 2,
      "metadata": {
        "id": "i2dxVTwSXumG"
      },
      "outputs": [],
      "source": [
        "transform = transforms.Compose([\n",
        "    transforms.RandomHorizontalFlip(p=1.0),  # Flip the image horizontally with 100% probability\n",
        "    transforms.RandomRotation((90, 90)),  # Rotate 90 degrees anti-clockwise\n",
        "    transforms.ToTensor(),\n",
        "    transforms.Normalize((0.5,), (0.5,))\n",
        "])"
      ]
    },
    {
      "cell_type": "code",
      "execution_count": 3,
      "metadata": {
        "id": "xsbwdnNzXuqc"
      },
      "outputs": [],
      "source": [
        "# classes = EMNIST(root='data/', split='balanced', train=True, download=True, transform=transform).classes\n",
        "\n",
        "classes = ['0', '1', '2', '3', '4', '5', '6', '7', '8', '9', 'A', 'B', 'C', 'D', 'E', 'F', 'G', 'H', 'I', 'J', 'K', 'L', 'M', 'N', 'O', 'P', 'Q', 'R', 'S', 'T', 'U', 'V', 'W', 'X', 'Y', 'Z', 'a', 'b', 'd', 'e', 'f', 'g', 'h', 'n', 'q', 'r', 't']"
      ]
    },
    {
      "cell_type": "code",
      "execution_count": 4,
      "metadata": {
        "id": "CrJu0jHcXu9b"
      },
      "outputs": [],
      "source": [
        "# Define a simple CNN architecture\n",
        "class SimpleCNN(nn.Module):\n",
        "    def __init__(self):\n",
        "        super(SimpleCNN, self).__init__()\n",
        "        self.conv1 = nn.Conv2d(1, 32, kernel_size=3, padding=1)\n",
        "        self.conv2 = nn.Conv2d(32, 64, kernel_size=3, padding=1)\n",
        "        self.pool = nn.MaxPool2d(kernel_size=2, stride=2, padding=0)\n",
        "        self.fc1 = nn.Linear(64 * 7 * 7, 128)\n",
        "        self.fc2 = nn.Linear(128, 47)  # 47 classes in the 'byclass' split\n",
        "\n",
        "    def forward(self, x):\n",
        "        x = self.pool(torch.relu(self.conv1(x)))\n",
        "        x = self.pool(torch.relu(self.conv2(x)))\n",
        "        x = x.view(-1, 64 * 7 * 7)\n",
        "        x = torch.relu(self.fc1(x))\n",
        "        x = self.fc2(x)\n",
        "        return x"
      ]
    },
    {
      "cell_type": "code",
      "execution_count": 26,
      "metadata": {
        "colab": {
          "base_uri": "https://localhost:8080/"
        },
        "id": "YPKSEzelXvGZ",
        "outputId": "66447d34-025f-4276-cf12-2c7c80d44799"
      },
      "outputs": [
        {
          "name": "stdout",
          "output_type": "stream",
          "text": [
            "cpu\n"
          ]
        },
        {
          "data": {
            "text/plain": [
              "<All keys matched successfully>"
            ]
          },
          "execution_count": 26,
          "metadata": {},
          "output_type": "execute_result"
        }
      ],
      "source": [
        "model = SimpleCNN()\n",
        "\n",
        "# Train the model\n",
        "# train_losses, val_losses = train_model(model, train_loader, val_loader, criterion, optimizer, device, num_epochs=5)\n",
        "\n",
        "# Move the model to the appropriate device\n",
        "device = torch.device(\"cuda\" if torch.cuda.is_available() else \"cpu\")\n",
        "print(device)\n",
        "\n",
        "model.to(device)\n",
        "\n",
        "# Run code from here to use pretrained weights\n",
        "model.load_state_dict(torch.load(\"./model4_weights.pth\", weights_only=True, map_location=device))"
      ]
    },
    {
      "cell_type": "code",
      "execution_count": 6,
      "metadata": {
        "id": "qKR386tAYLKv"
      },
      "outputs": [],
      "source": [
        "# Function to preprocess the image\n",
        "def preprocess_image(img, invert=False, resize=True, show_output=True):\n",
        "    if invert:\n",
        "        # Invert the colors\n",
        "        img = np.bitwise_not(img)\n",
        "\n",
        "        if show_output:\n",
        "            # Display the original grayscale image\n",
        "            plt.figure()\n",
        "            plt.title(\"Inverted Grayscale Image\")\n",
        "            plt.imshow(img, cmap='gray')\n",
        "            plt.axis('off')\n",
        "            plt.show()\n",
        "\n",
        "    if resize:\n",
        "        # Resize the image to 28x28\n",
        "        img = cv2.resize(img, (28, 28), interpolation=cv2.INTER_CUBIC)\n",
        "\n",
        "        if show_output:\n",
        "            # Display the resized image\n",
        "            plt.figure()\n",
        "            plt.title(\"Resized Image (28x28)\")\n",
        "            plt.imshow(img, cmap='gray')\n",
        "            plt.axis('off')\n",
        "            plt.show()\n",
        "\n",
        "    # Define the transformations: convert to tensor and normalize\n",
        "    transform = transforms.Compose([\n",
        "        transforms.ToTensor(),\n",
        "        transforms.Normalize((0.5,), (0.5,))\n",
        "    ])\n",
        "\n",
        "    # Apply the transformations\n",
        "    img_tensor = transform(img)\n",
        "\n",
        "    # Add batch dimension (1, 1, 28, 28)\n",
        "    img_tensor = img_tensor.unsqueeze(0)\n",
        "\n",
        "    return img, img_tensor"
      ]
    },
    {
      "cell_type": "code",
      "execution_count": 7,
      "metadata": {
        "colab": {
          "base_uri": "https://localhost:8080/"
        },
        "id": "u7Y7ciK_duz7",
        "outputId": "9814b78e-33c4-4288-9756-8358eade7465"
      },
      "outputs": [
        {
          "data": {
            "text/plain": [
              "SimpleCNN(\n",
              "  (conv1): Conv2d(1, 32, kernel_size=(3, 3), stride=(1, 1), padding=(1, 1))\n",
              "  (conv2): Conv2d(32, 64, kernel_size=(3, 3), stride=(1, 1), padding=(1, 1))\n",
              "  (pool): MaxPool2d(kernel_size=2, stride=2, padding=0, dilation=1, ceil_mode=False)\n",
              "  (fc1): Linear(in_features=3136, out_features=128, bias=True)\n",
              "  (fc2): Linear(in_features=128, out_features=47, bias=True)\n",
              ")"
            ]
          },
          "execution_count": 7,
          "metadata": {},
          "output_type": "execute_result"
        }
      ],
      "source": [
        "model.eval()  # Set the model to evaluation mode"
      ]
    },
    {
      "cell_type": "code",
      "execution_count": 8,
      "metadata": {
        "id": "Ieb55a9BYXqf"
      },
      "outputs": [],
      "source": [
        "# Function to predict the label of the processed image\n",
        "def predict_image(model, image_tensor):\n",
        "    with torch.no_grad():\n",
        "        outputs = model(image_tensor.to(device))\n",
        "        probabilities = torch.nn.functional.softmax(outputs, dim=1)\n",
        "        _, predicted = torch.max(outputs.data, 1)\n",
        "        return predicted.item(), probabilities.squeeze().cpu().numpy()"
      ]
    },
    {
      "cell_type": "code",
      "execution_count": 9,
      "metadata": {
        "id": "4Qq-0IsRdu0F"
      },
      "outputs": [],
      "source": [
        "def get_top_n_classes(model, img_tensor, n=5, prob_threshold=0.00):\n",
        "    \"\"\"\n",
        "    Returns the top n classes and their probabilities for a given image tensor using the provided model\n",
        "    Filters the model output based on the probability threshold, returns n best options (if they exist)\n",
        "        Parameters:\n",
        "            - model: The model used for prediction.\n",
        "            - img_tensor: The image tensor to be predicted.\n",
        "            - n (optional): The number of top classes to return. Default is 5.\n",
        "            - prob_threshold (optional): The probability threshold for considering a class. Default is 0.001.\n",
        "        Returns:\n",
        "            - sorted_classes: A list of the top n classes.\n",
        "            - sorted_probs: A list of the corresponding probabilities for the top n classes.\n",
        "    \"\"\"\n",
        "\n",
        "    global classes\n",
        "    _, probs = predict_image(model, img_tensor)\n",
        "\n",
        "    # Define the mapping from lowercase to uppercase\n",
        "    lower_to_upper = {\n",
        "        'a': 'A', 'b': 'B', 'd': 'D', 'e': 'E', 'f': 'F',\n",
        "        'g': 'G', 'h': 'H', 'n': 'N', 'q': 'Q', 'r': 'R', 't': 'T'\n",
        "    }\n",
        "\n",
        "    # Initialize the new_classes and new_probs dictionaries\n",
        "    new_classes = list('0123456789ABCDEFGHIJKLMNOPQRSTUVWXYZ')\n",
        "    new_probs = {cls: 0.0 for cls in new_classes}\n",
        "\n",
        "    # Merge the probabilities for lowercase and uppercase letters\n",
        "    for cls, prob in zip(classes, probs):\n",
        "        if cls in lower_to_upper:\n",
        "            new_probs[lower_to_upper[cls]] += prob\n",
        "        else:\n",
        "            new_probs[cls] += prob\n",
        "\n",
        "    # Sort the merged probabilities\n",
        "    sorted_vals = sorted(new_probs.items(), key=lambda x: x[1], reverse=True)\n",
        "\n",
        "    # Filter based on probability threshold and get the top n classes\n",
        "    filtered_vals = [val for val in sorted_vals if val[1] >= prob_threshold][:n]\n",
        "\n",
        "    if not filtered_vals:\n",
        "        return None\n",
        "\n",
        "    sorted_classes = [val[0] for val in filtered_vals]\n",
        "    sorted_probs = [val[1] for val in filtered_vals]\n",
        "\n",
        "    return sorted_classes, sorted_probs"
      ]
    },
    {
      "cell_type": "markdown",
      "metadata": {
        "id": "d4XxzT0odu0I"
      },
      "source": [
        "## Helper classes"
      ]
    },
    {
      "cell_type": "code",
      "execution_count": 10,
      "metadata": {
        "id": "fdDFxdpJdu0N"
      },
      "outputs": [],
      "source": [
        "class output_char():\n",
        "    \"\"\"\n",
        "        Represents an output character with its associated information.\n",
        "\n",
        "    Attributes:\n",
        "        - character: The image of the character stored as a numpy array.\n",
        "        - predicted_chars: The top predicted characters.\n",
        "        - predicted_probs: The respective probabilities of the predicted characters.\n",
        "        - corr: The coordinates of the character in the original image.\n",
        "        - shape: The shape of the character image.\n",
        "    \"\"\"\n",
        "    def __init__(self, char_img, probs, classes, col_corr, row_corr, width, height):\n",
        "        self.character = char_img\n",
        "        self.predicted_chars = classes\n",
        "        self.predicted_probs = probs\n",
        "        self.corr = (row_corr, col_corr)\n",
        "        self.shape = (height, width)\n",
        "\n",
        "\n",
        "    def __str__(self):\n",
        "        return \\\n",
        "            f\"Character's coordinates in original image: {self.corr}\\n\" \\\n",
        "            f\"Top predicted characters : {self.predicted_chars}\\n\" \\\n",
        "            f\"Respective probabilities : {self.predicted_probs}\\n\" \\\n",
        "            f\"Shape of image : {self.shape}\\n\""
      ]
    },
    {
      "cell_type": "code",
      "execution_count": 11,
      "metadata": {
        "id": "ml3_vhcbdu0O"
      },
      "outputs": [],
      "source": [
        "def get_output_char(model, img_tensor, img_numpy, col, row, width, height):\n",
        "    \"\"\"\n",
        "        Returns the an object of output_char class containing the predicted character,\n",
        "        it's corrdinates, shape and the top predicted characters and their probabilities.\n",
        "    Parameters:\n",
        "        model (object): The model used for prediction.\n",
        "        img_tensor (object): The image tensor.\n",
        "        img_numpy (object): The image numpy array.\n",
        "        col (int): The col corrdinate of the character in the original image.\n",
        "        row (int): The row corrdinate of the character in the original image.\n",
        "        width (int): The width of cropped character ( img_numpy ).\n",
        "        height (int): The height of cropped character ( img_numpy ).\n",
        "    Returns:\n",
        "        None or object of output_char\n",
        "    \"\"\"\n",
        "\n",
        "    prediction = get_top_n_classes(model, img_tensor)\n",
        "    if prediction is None:\n",
        "        return None\n",
        "\n",
        "    classes, probs = prediction\n",
        "\n",
        "    return output_char(img_numpy, probs, classes, col_corr=col, row_corr=row, width=width, height=height)"
      ]
    },
    {
      "cell_type": "code",
      "execution_count": 13,
      "metadata": {
        "id": "z6VziLBddu0P"
      },
      "outputs": [],
      "source": [
        "class line_chars():\n",
        "    \"\"\"\n",
        "        A class representing a line of characters ( objects of output_char class ).\n",
        "    Attributes:\n",
        "        - starty:   The starting y-coordinate of the line.\n",
        "        - endy:     The ending y-coordinate of the line.\n",
        "        - chars:    A list of characters (objects of output_char) in the line.\n",
        "    Methods:\n",
        "        - __init__(self, y1, y2, char): Initializes a line_chars object with the given y-coordinates and character (object of output_char).\n",
        "        - can_be_added(self, y1, y2): Checks if a character with given y-coordinates can be added to the line or should be added to some other line instead.\n",
        "        - add_char(self, y1, y2, char): Adds a character to can_be_added() is True.\n",
        "        - sort_characters(self): Sorts the characters in the line based on their starting x-corrdinates value.\n",
        "    \"\"\"\n",
        "    def __init__(self, y1, y2, char):\n",
        "        self.starty = y1\n",
        "        self.endy = y2\n",
        "        self.chars = [char]\n",
        "\n",
        "\n",
        "    def can_be_added(self, y1, y2):\n",
        "        return (y1 >= self.starty and y1 <= self.endy) or (y2 >= self.starty and y2 <= self.endy)\n",
        "\n",
        "\n",
        "    def add_char(self, y1, y2, char):\n",
        "        if not self.can_be_added(y1, y2):\n",
        "            return\n",
        "\n",
        "        self.chars.append(char)\n",
        "        # TODO: Don't update the lines' y-coordinates and just rely on the initial values\n",
        "        #       provided by the line segmentation code\n",
        "        self.starty = min(self.starty, y1)\n",
        "        self.endy = max(self.endy, y2)\n",
        "\n",
        "\n",
        "    def sort_characters(self):\n",
        "        self.chars = sorted(self.chars, key=lambda x: x.corr[1])"
      ]
    },
    {
      "cell_type": "code",
      "execution_count": 14,
      "metadata": {
        "id": "zeq6Z8qQdu0Q"
      },
      "outputs": [],
      "source": [
        "def append_to_correct_line(lines_list, row, h, char):\n",
        "    \"\"\"\n",
        "        Appends a character to the correct line in a list of line_chars objects.\n",
        "    Parameters:\n",
        "        - lines_list (list): A list of line_chars objects.\n",
        "        - row (int): The starting y-offset of the character on the image (row number).\n",
        "        - h (int): The height of the character.\n",
        "        - char (object of output_char): The character to be added.\n",
        "    Returns:\n",
        "    None\n",
        "    \"\"\"\n",
        "    lines_count = len(lines_list)\n",
        "    line_added = False\n",
        "\n",
        "    for line_num in range(lines_count):\n",
        "        if lines_list[line_num].can_be_added(row, row + h):\n",
        "            lines_list[line_num].add_char(row, row + h, char)\n",
        "            line_added = True\n",
        "            break\n",
        "    if not line_added:\n",
        "        lines_list.append(line_chars(row, row + h, char))"
      ]
    },
    {
      "cell_type": "code",
      "execution_count": 15,
      "metadata": {
        "id": "ItiLqZTudu0T"
      },
      "outputs": [],
      "source": [
        "class word():\n",
        "    def __init__(self, char):\n",
        "        \"\"\"\n",
        "            Initializes a word object with an object of output_char class.\n",
        "        Parameters:\n",
        "            - char: An output_char object representing the first character of the word.\n",
        "        \"\"\"\n",
        "        self.startx = char.corr[1]\n",
        "        self.endx = char.corr[1], char.shape[1]\n",
        "        self.characters = [char]\n",
        "\n",
        "\n",
        "    def can_add_char(self, char, word_spacing_thresh):\n",
        "        \"\"\"\n",
        "            Checks if a character can be added to the word based on the corrdinates of the given character\n",
        "            & the last character of the current word.\n",
        "        Parameters:\n",
        "            - char: The output_char object to be added.\n",
        "            - word_spacing_thresh: The maximum allowed spacing between characters.\n",
        "        Returns:\n",
        "            - True if the character can be added, False otherwise.\n",
        "        \"\"\"\n",
        "        last_char_end = self.characters[-1].corr[1] + self.characters[-1].shape[1]\n",
        "\n",
        "        # We can add the provided character if it starts after the current character and is within the word_spacing_thresh\n",
        "        return char.corr[1] <= last_char_end + word_spacing_thresh #and char.corr[1] >= last_char_end\n",
        "\n",
        "\n",
        "    def add_char(self, char, word_spacing_thresh, verify=True):\n",
        "        \"\"\"\n",
        "            Adds a character to the word if can_add_char is True or verification is forced to be off.\n",
        "        Parameters:\n",
        "            - char: The output_char object to be added.\n",
        "            - word_spacing_thresh: The maximum allowed spacing between characters to consider it the same word.\n",
        "            - verify: A boolean indicating whether to verify if the character can be added or forcefully add it.\n",
        "        \"\"\"\n",
        "        if verify and not self.can_add_char(char, word_spacing_thresh):\n",
        "            return\n",
        "\n",
        "        self.characters.append(char)\n",
        "        self.endx = char.corr[1] + char.shape[1]\n",
        "\n",
        "\n",
        "    def __str__(self):\n",
        "        \"\"\"\n",
        "        Returns:\n",
        "            - A string representing the word.\n",
        "        \"\"\"\n",
        "        return ''.join([x.predicted_chars[0] for x in self.characters])"
      ]
    },
    {
      "cell_type": "code",
      "execution_count": 16,
      "metadata": {
        "id": "k0giXiYndu0V"
      },
      "outputs": [],
      "source": [
        "def process_image(img_path, ksize=3, t1=21, t2=5):\n",
        "    \"\"\"\n",
        "        Process the provided image using opencv2 to\n",
        "        remove shadows & put more emphasis on the text.\n",
        "    Params:\n",
        "        img_path:       str         : Path of the image to process on disk\n",
        "\n",
        "    Returns:\n",
        "        None\n",
        "    \"\"\"\n",
        "    image = cv2.imread(img_path)\n",
        "    # Convert to grayscale\n",
        "    gray = cv2.cvtColor(image, cv2.COLOR_BGR2GRAY)\n",
        "\n",
        "    # Apply Gaussian blur\n",
        "    blurred = cv2.GaussianBlur(gray, (ksize, ksize), 0)\n",
        "\n",
        "    # Apply adaptive thresholding\n",
        "    thresh = cv2.adaptiveThreshold(blurred, 255, cv2.ADAPTIVE_THRESH_GAUSSIAN_C,\n",
        "                                    cv2.THRESH_BINARY, t1, t2)\n",
        "\n",
        "    # Apply morphological operations\n",
        "    kernel = np.ones((2, 2), np.uint8)\n",
        "    morph = cv2.morphologyEx(thresh, cv2.MORPH_CLOSE, kernel)\n",
        "\n",
        "    return morph"
      ]
    },
    {
      "cell_type": "markdown",
      "metadata": {
        "id": "eFOHXz0Mdu0W"
      },
      "source": [
        "## Helper functions for extracting words out of lines"
      ]
    },
    {
      "cell_type": "code",
      "execution_count": 17,
      "metadata": {
        "id": "Q7_dlltOdu0W"
      },
      "outputs": [],
      "source": [
        "def get_sorted_contours(img, area_threshold=50):\n",
        "    \"\"\"\n",
        "        Extract the contours from the provided image and sort them based on their (x,y).\n",
        "    Args:\n",
        "        img (numpy.array): Output of cv2.imread() function. The image to get the contours from.\n",
        "        area_threshold (int, optional): Minimum area that a contour should have to be considered valid. Defaults to 50.\n",
        "    \"\"\"\n",
        "    def get_contour_1D_pos(bbox, img_width):\n",
        "        \"\"\"\n",
        "        Convert the provided coordinates to a 1D position similar to converting the indexes of a 2D matrix into 1D.\n",
        "        \"\"\"\n",
        "        x, y, _, _ = bbox\n",
        "        return y * img_width + x\n",
        "\n",
        "    _, img_w = img.shape\n",
        "    contours, _ = cv2.findContours(img, cv2.RETR_EXTERNAL, cv2.CHAIN_APPROX_SIMPLE)\n",
        "\n",
        "    filtered_contours = [contour for contour in contours if cv2.contourArea(contour) >= area_threshold]\n",
        "    sorted_contours = sorted(filtered_contours, key=lambda x: get_contour_1D_pos(cv2.boundingRect(x), img_w))\n",
        "\n",
        "    return sorted_contours"
      ]
    },
    {
      "cell_type": "code",
      "execution_count": 18,
      "metadata": {
        "id": "XN_cktfRdu0X"
      },
      "outputs": [],
      "source": [
        "def get_curr_contour(img, contour, padding=2):\n",
        "    \"\"\"\n",
        "        Extracts the current contour from an image and returns it as a square image.\n",
        "    Parameters:\n",
        "        - img: The input image.\n",
        "        - contour: The contour to extract.\n",
        "        - padding: The padding to add around the contour (default: 2 pixels).\n",
        "    Returns:\n",
        "        - curr_contour: The extracted contour as a square image ( numpy array ).\n",
        "    \"\"\"\n",
        "    # Implementation details...\n",
        "    pass\n",
        "\n",
        "    col, row, w, h = cv2.boundingRect(contour)\n",
        "\n",
        "    dim = max(w, h) + padding\n",
        "    # Extra rows/cols to add to each side to make the image square\n",
        "    extra_row = (dim - h) // 2\n",
        "    extra_col = (dim - w) // 2\n",
        "\n",
        "    # starting dimensions of the square box\n",
        "    box_row_st, box_col_st = max(row - extra_row, 0), max(col - extra_col, 0)\n",
        "    curr_contour = img[box_row_st:box_row_st+ dim, box_col_st:box_col_st + dim].copy()\n",
        "    contour_h, contour_w = curr_contour.shape\n",
        "\n",
        "    # Fill the contour with 0s outside the actual location of the contour\n",
        "    for idx in range(contour_h):\n",
        "        for j in range(contour_w):\n",
        "            if cv2.pointPolygonTest(contour, (box_col_st + j, box_row_st + idx), False) < 0:\n",
        "                curr_contour[idx][j] = 0\n",
        "\n",
        "    return curr_contour"
      ]
    },
    {
      "cell_type": "code",
      "execution_count": 19,
      "metadata": {
        "id": "EvL4Aouudu0Y"
      },
      "outputs": [],
      "source": [
        "def get_characters_in_lines(img):\n",
        "    \"\"\"\n",
        "        Extracts the characters from an image, predict what characters they are using model\n",
        "        and group the results into lines ( objects of line_chars ).\n",
        "    Args:\n",
        "        img (numpy.ndarray): The input image.\n",
        "    Returns:\n",
        "        list: A list of objects of line_chars\n",
        "    \"\"\"\n",
        "\n",
        "    lines_list = []\n",
        "\n",
        "    temp_img = np.zeros(img.shape)\n",
        "\n",
        "    sorted_contours = get_sorted_contours(img)\n",
        "\n",
        "    for i in range(len(sorted_contours)):\n",
        "        col, row, w, h = cv2.boundingRect(sorted_contours[i])\n",
        "        curr_contour = get_curr_contour(img, sorted_contours[i])\n",
        "\n",
        "        # Process curr_contour with model and overlay at row, col\n",
        "        _, img_tensor = preprocess_image(curr_contour, show_output=False)\n",
        "\n",
        "        prediction = get_output_char(model, img_tensor, curr_contour, col, row, w, h)\n",
        "        if prediction is None:\n",
        "            continue\n",
        "\n",
        "        append_to_correct_line(lines_list, row, h, prediction)\n",
        "\n",
        "        cv2.putText(temp_img, prediction.predicted_chars[0], (col, row), cv2.FONT_HERSHEY_SIMPLEX, 1, (255, 255, 255), 2)\n",
        "\n",
        "    plt.imshow(temp_img, cmap='gray')\n",
        "    plt.show()\n",
        "\n",
        "    return lines_list"
      ]
    },
    {
      "cell_type": "code",
      "execution_count": 20,
      "metadata": {
        "id": "A4i6ajBQdu0Z"
      },
      "outputs": [],
      "source": [
        "def get_words_list(lines_of_chars):\n",
        "    \"\"\"\n",
        "        Group characters in objects of line_chars into a list of objects of word class.\n",
        "    Args:\n",
        "        lines_of_chars (list): A list of line_chars objects.\n",
        "    Returns:\n",
        "        list: A 2D list of words, where word[i] = List of object of word representing words in line i.\n",
        "    \"\"\"\n",
        "    word_list = []\n",
        "    for line_num, line_of_characters in enumerate(lines_of_chars):\n",
        "        line_of_characters.sort_characters()\n",
        "\n",
        "        mean_char_width = np.mean([char.shape[1] for char in line_of_characters.chars])\n",
        "        word_spacing_thresh = mean_char_width\n",
        "\n",
        "        # New line\n",
        "        word_list.append([])\n",
        "        words_in_current_line = 0\n",
        "\n",
        "        for character in line_of_characters.chars:\n",
        "            if words_in_current_line > 0 and word_list[line_num][-1].can_add_char(character, word_spacing_thresh):\n",
        "                word_list[line_num][-1].add_char(character, word_spacing_thresh, verify=False)\n",
        "            else:\n",
        "                word_list[line_num].append(word(character))\n",
        "                words_in_current_line += 1\n",
        "\n",
        "    return word_list"
      ]
    },
    {
      "cell_type": "code",
      "execution_count": 21,
      "metadata": {
        "id": "T-vzc75edu0Z"
      },
      "outputs": [],
      "source": [
        "def get_words_list_from_image(img_name, show_image=False):\n",
        "    \"\"\"\n",
        "        Extracts a 2D list of words, where word[i] = List of object of word representing words in line i.\n",
        "    Parameters:\n",
        "        - img_name (str): The name of the image file.\n",
        "        - show_image (bool): Whether to display the processed / binarized image.\n",
        "    Returns:\n",
        "    - words_list (list of list of objects of word): A list of words extracted from the image.\n",
        "    \"\"\"\n",
        "    processed_img = process_image(img_name)\n",
        "    inverted = np.bitwise_not(processed_img)\n",
        "\n",
        "    if show_image:\n",
        "        plt.figure()\n",
        "        plt.title(\"Processed Image\")\n",
        "        plt.imshow(inverted, cmap='gray')\n",
        "        plt.axis('off')\n",
        "        plt.show()\n",
        "\n",
        "    lines = get_characters_in_lines(inverted)\n",
        "\n",
        "    return get_words_list(lines)"
      ]
    },
    {
      "cell_type": "code",
      "execution_count": 22,
      "metadata": {
        "id": "328Nbss7du0b"
      },
      "outputs": [],
      "source": [
        "def print_words_list(words_list):\n",
        "    \"\"\"\n",
        "        Provided a 2D list of word objects, prints the words Line by Line.\n",
        "\n",
        "    Args:\n",
        "        words_list (List of List[word]): The return value of get_words_list_from_image or get_words_list.\n",
        "    \"\"\"\n",
        "    for line in words_list:\n",
        "        for word in line:\n",
        "            print(word, end=' ')\n",
        "        print()"
      ]
    },
    {
      "cell_type": "code",
      "execution_count": 27,
      "metadata": {
        "colab": {
          "base_uri": "https://localhost:8080/",
          "height": 415
        },
        "id": "uVvWtvrrdu0c",
        "outputId": "180ca39b-c44e-42e2-fc48-da7d47d5dab4"
      },
      "outputs": [
        {
          "data": {
            "image/png": "[encoded data removed]",
            "text/plain": [
              "<Figure size 640x480 with 1 Axes>"
            ]
          },
          "metadata": {},
          "output_type": "display_data"
        },
        {
          "name": "stdout",
          "output_type": "stream",
          "text": [
            "L \n",
            "TLI7DLG HQ 0I S YDUX SAMPIC WF \n",
            "MY NCQME DLS NQFHCIW \n",
            "LLDW AYA YDU \n",
            "TTL QM WOQICLMG WDBN CYWFURECN7LDTLJ \n"
          ]
        }
      ],
      "source": [
        "img_name = './sample2.jpeg'\n",
        "\n",
        "words_list = get_words_list_from_image(img_name)\n",
        "print_words_list(words_list)\n"
      ]
    },
    {
      "cell_type": "markdown",
      "metadata": {
        "id": "Qt_5CC81m-B8"
      },
      "source": [
        "using vocabulary"
      ]
    },
    {
      "cell_type": "code",
      "execution_count": 47,
      "metadata": {},
      "outputs": [],
      "source": [
        "# Sample word\n",
        "sample_word = words_list[1][5]  # word location"
      ]
    },
    {
      "cell_type": "code",
      "execution_count": 48,
      "metadata": {
        "colab": {
          "base_uri": "https://localhost:8080/"
        },
        "id": "3QuqV0i689Xs",
        "outputId": "0efd6969-2ca5-47f1-b7b5-03b58472a8cf"
      },
      "outputs": [
        {
          "name": "stderr",
          "output_type": "stream",
          "text": [
            "[nltk_data] Downloading package words to /home/yilliee/nltk_data...\n",
            "[nltk_data]   Package words is already up-to-date!\n"
          ]
        }
      ],
      "source": [
        "import nltk\n",
        "from nltk.corpus import words\n",
        "from itertools import product\n",
        "import numpy as np\n",
        "\n",
        "# Download the nltk words corpus\n",
        "nltk.download('words')\n",
        "vocabulary = set(words.words())\n",
        "\n",
        "# Function to extract top predictions and probabilities\n",
        "def get_top_predictions_matrix(word, n=5):\n",
        "    top_predictions = [char.predicted_chars[:n] for char in word.characters]\n",
        "    top_probabilities = [char.predicted_probs[:n] for char in word.characters]\n",
        "\n",
        "    max_length = max(len(preds) for preds in top_predictions)\n",
        "\n",
        "    for preds in top_predictions:\n",
        "        while len(preds) < max_length:\n",
        "            preds.append('')\n",
        "\n",
        "    for probs in top_probabilities:\n",
        "        while len(probs) < max_length:\n",
        "            probs.append(0.0)\n",
        "\n",
        "    top_predictions_matrix = np.array(top_predictions)\n",
        "    top_probabilities_matrix = np.array(top_probabilities)\n",
        "\n",
        "    return top_predictions_matrix, top_probabilities_matrix\n",
        "\n",
        "# Function to correct a word using the nltk vocabulary\n",
        "def correct_word_using_vocabulary(top_predictions_matrix, top_probabilities_matrix, vocabulary):\n",
        "    best_word = None\n",
        "    best_prob = 0\n",
        "\n",
        "    candidates = product(*top_predictions_matrix)\n",
        "\n",
        "    for candidate in candidates:\n",
        "        candidate_word = ''.join(candidate).lower()\n",
        "        if candidate_word in vocabulary:\n",
        "            combined_prob = np.prod([top_probabilities_matrix[i][top_predictions_matrix[i].tolist().index(candidate[i])] for i in range(len(candidate))])\n",
        "            if combined_prob > best_prob:\n",
        "                best_word = candidate_word\n",
        "                best_prob = combined_prob\n",
        "\n",
        "    return best_word, best_prob"
      ]
    },
    {
      "cell_type": "code",
      "execution_count": 49,
      "metadata": {},
      "outputs": [
        {
          "name": "stdout",
          "output_type": "stream",
          "text": [
            "Top Predictions Matrix:\n",
            "[['S' 'G' '5' 'F' '8']\n",
            " ['A' 'Q' 'R' 'G' 'I']\n",
            " ['M' 'W' 'N' 'H' 'A']\n",
            " ['P' 'F' '9' 'Q' 'A']\n",
            " ['I' 'F' 'L' 'T' 'J']\n",
            " ['C' 'E' 'G' 'Q' '0']]\n",
            "\n",
            "Top Probabilities Matrix:\n",
            "[[9.9999714e-01 2.5721386e-06 2.0653370e-07 2.4966923e-08 2.2372065e-08]\n",
            " [6.2109512e-01 3.7682000e-01 2.0496077e-03 3.2703250e-05 2.2703416e-06]\n",
            " [1.0000000e+00 2.0925022e-09 4.6274874e-14 9.3335805e-17 5.6804606e-18]\n",
            " [1.0000000e+00 3.0572394e-08 2.4496222e-10 2.2899974e-11 1.4466954e-11]\n",
            " [4.7541726e-01 3.1216079e-01 8.1921443e-02 7.9033360e-02 4.3462709e-02]\n",
            " [9.9925452e-01 7.3024392e-04 6.1745486e-06 5.5973442e-06 3.2385012e-06]]\n",
            "\n",
            "Predicted Word: SAMPIC\n",
            "Corrected Word: sample\n",
            "Combined Probability: 3.7155437894398347e-05\n",
            "\n",
            "\n",
            "\n"
          ]
        }
      ],
      "source": [
        "# Get the top predictions and their probabilities\n",
        "top_predictions_matrix, top_probabilities_matrix = get_top_predictions_matrix(sample_word, n=5)\n",
        "\n",
        "# Correct the word using the vocabulary\n",
        "corrected_word, combined_prob = correct_word_using_vocabulary(top_predictions_matrix, top_probabilities_matrix, vocabulary)\n",
        "\n",
        "# Display the corrected word and its combined probability\n",
        "print(\"Top Predictions Matrix:\")\n",
        "print(top_predictions_matrix)\n",
        "print(\"\\nTop Probabilities Matrix:\")\n",
        "print(top_probabilities_matrix)\n",
        "print(f\"\\nPredicted Word: {sample_word}\")\n",
        "print(f\"Corrected Word: {corrected_word}\")\n",
        "print(f\"Combined Probability: {combined_prob}\")\n",
        "print(\"\\n\\n\")"
      ]
    },
    {
      "cell_type": "markdown",
      "metadata": {
        "id": "iCsoX3_tFWsy"
      },
      "source": [
        "all possible words"
      ]
    },
    {
      "cell_type": "code",
      "execution_count": 50,
      "metadata": {
        "colab": {
          "base_uri": "https://localhost:8080/"
        },
        "id": "40sIx0U5-yJn",
        "outputId": "ae34494b-bf56-4e28-f124-caf8b62a4e5b"
      },
      "outputs": [
        {
          "name": "stderr",
          "output_type": "stream",
          "text": [
            "[nltk_data] Downloading package words to /home/yilliee/nltk_data...\n",
            "[nltk_data]   Package words is already up-to-date!\n"
          ]
        }
      ],
      "source": [
        "import nltk\n",
        "from nltk.corpus import words\n",
        "from itertools import product\n",
        "import numpy as np\n",
        "\n",
        "# Download the nltk words corpus\n",
        "nltk.download('words')\n",
        "vocabulary = set(words.words())\n",
        "\n",
        "# Function to extract top predictions and probabilities\n",
        "def get_top_predictions_matrix(word, n=5):\n",
        "    top_predictions = [char.predicted_chars[:n] for char in word.characters]\n",
        "    top_probabilities = [char.predicted_probs[:n] for char in word.characters]\n",
        "\n",
        "    max_length = max(len(preds) for preds in top_predictions)\n",
        "\n",
        "    for preds in top_predictions:\n",
        "        while len(preds) < max_length:\n",
        "            preds.append('')\n",
        "\n",
        "    for probs in top_probabilities:\n",
        "        while len(probs) < max_length:\n",
        "            probs.append(0.0)\n",
        "\n",
        "    top_predictions_matrix = np.array(top_predictions)\n",
        "    top_probabilities_matrix = np.array(top_probabilities)\n",
        "\n",
        "    return top_predictions_matrix, top_probabilities_matrix\n",
        "\n",
        "# Function to correct a word using the nltk vocabulary\n",
        "def correct_word_using_vocabulary(top_predictions_matrix, top_probabilities_matrix, vocabulary):\n",
        "    best_word = None\n",
        "    best_prob = 0\n",
        "    valid_words = []\n",
        "\n",
        "    candidates = product(*top_predictions_matrix)\n",
        "\n",
        "    for candidate in candidates:\n",
        "        candidate_word = ''.join(candidate).lower()\n",
        "        if candidate_word in vocabulary:\n",
        "            valid_words.append(candidate_word)\n",
        "            combined_prob = np.prod([top_probabilities_matrix[i][top_predictions_matrix[i].tolist().index(candidate[i])] for i in range(len(candidate))])\n",
        "            if combined_prob > best_prob:\n",
        "                best_word = candidate_word\n",
        "                best_prob = combined_prob\n",
        "\n",
        "    return best_word, best_prob, valid_words"
      ]
    },
    {
      "cell_type": "code",
      "execution_count": 51,
      "metadata": {},
      "outputs": [
        {
          "name": "stdout",
          "output_type": "stream",
          "text": [
            "Top Predictions Matrix:\n",
            "[['S' 'G' '5' 'F' '8']\n",
            " ['A' 'Q' 'R' 'G' 'I']\n",
            " ['M' 'W' 'N' 'H' 'A']\n",
            " ['P' 'F' '9' 'Q' 'A']\n",
            " ['I' 'F' 'L' 'T' 'J']\n",
            " ['C' 'E' 'G' 'Q' '0']]\n",
            "\n",
            "Top Probabilities Matrix:\n",
            "[[9.9999714e-01 2.5721386e-06 2.0653370e-07 2.4966923e-08 2.2372065e-08]\n",
            " [6.2109512e-01 3.7682000e-01 2.0496077e-03 3.2703250e-05 2.2703416e-06]\n",
            " [1.0000000e+00 2.0925022e-09 4.6274874e-14 9.3335805e-17 5.6804606e-18]\n",
            " [1.0000000e+00 3.0572394e-08 2.4496222e-10 2.2899974e-11 1.4466954e-11]\n",
            " [4.7541726e-01 3.1216079e-01 8.1921443e-02 7.9033360e-02 4.3462709e-02]\n",
            " [9.9925452e-01 7.3024392e-04 6.1745486e-06 5.5973442e-06 3.2385012e-06]]\n",
            "\n",
            "Corrected Word: sample\n",
            "Combined Probability: 3.7155437894398347e-05\n",
            "\n",
            "Valid Words in Vocabulary:\n",
            "['sample', 'simple', 'finale']\n"
          ]
        }
      ],
      "source": [
        "# Get the top predictions and their probabilities\n",
        "top_predictions_matrix, top_probabilities_matrix = get_top_predictions_matrix(sample_word, n=5)\n",
        "\n",
        "# Correct the word using the vocabulary and get valid words\n",
        "corrected_word, combined_prob, valid_words = correct_word_using_vocabulary(top_predictions_matrix, top_probabilities_matrix, vocabulary)\n",
        "\n",
        "# Display the results\n",
        "print(\"Top Predictions Matrix:\")\n",
        "print(top_predictions_matrix)\n",
        "print(\"\\nTop Probabilities Matrix:\")\n",
        "print(top_probabilities_matrix)\n",
        "print(f\"\\nCorrected Word: {corrected_word}\")\n",
        "print(f\"Combined Probability: {combined_prob}\")\n",
        "print(\"\\nValid Words in Vocabulary:\")\n",
        "print(valid_words)"
      ]
    }
  ],
  "metadata": {
    "colab": {
      "provenance": []
    },
    "kernelspec": {
      "display_name": "Python 3",
      "name": "python3"
    },
    "language_info": {
      "codemirror_mode": {
        "name": "ipython",
        "version": 3
      },
      "file_extension": ".py",
      "mimetype": "text/x-python",
      "name": "python",
      "nbconvert_exporter": "python",
      "pygments_lexer": "ipython3",
      "version": "3.12.4"
    }
  },
  "nbformat": 4,
  "nbformat_minor": 0
}

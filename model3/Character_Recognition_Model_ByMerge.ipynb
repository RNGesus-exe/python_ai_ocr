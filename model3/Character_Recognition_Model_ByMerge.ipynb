{
  "cells": [
    {
      "cell_type": "code",
      "execution_count": 15,
      "metadata": {
        "id": "d2XcpznWVV8o"
      },
      "outputs": [],
      "source": [
        "import torch\n",
        "import torch.nn as nn\n",
        "# import torch.optim as optim\n",
        "import torchvision.transforms as transforms\n",
        "from torchvision.datasets import EMNIST\n",
        "# from torch.utils.data.sampler import SubsetRandomSampler\n",
        "import matplotlib.pyplot as plt\n",
        "from PIL import Image, ImageOps\n",
        "import numpy as np\n",
        "# import random\n",
        "import os"
      ]
    },
    {
      "cell_type": "code",
      "execution_count": 16,
      "metadata": {
        "colab": {
          "base_uri": "https://localhost:8080/"
        },
        "id": "QyCpVzK3Vs7H",
        "outputId": "d1293243-3c1c-4d5a-afd2-220073d18fbc"
      },
      "outputs": [
        {
          "data": {
            "text/plain": [
              "device(type='cuda')"
            ]
          },
          "execution_count": 16,
          "metadata": {},
          "output_type": "execute_result"
        }
      ],
      "source": [
        "device = torch.device(\"cuda\" if torch.cuda.is_available() else \"cpu\")\n",
        "device"
      ]
    },
    {
      "cell_type": "code",
      "execution_count": 17,
      "metadata": {
        "id": "ndTp8zbNVxxl"
      },
      "outputs": [],
      "source": [
        "transform = transforms.Compose([\n",
        "    transforms.RandomHorizontalFlip(p=1.0),  # Flip the image horizontally with 100% probability\n",
        "    transforms.RandomRotation((90, 90)),  # Rotate 90 degrees anti-clockwise\n",
        "    transforms.ToTensor(),\n",
        "    transforms.Normalize((0.5,), (0.5,))\n",
        "])"
      ]
    },
    {
      "cell_type": "code",
      "execution_count": 18,
      "metadata": {
        "colab": {
          "base_uri": "https://localhost:8080/"
        },
        "id": "m3Wg9VYMVyc-",
        "outputId": "7d5d0650-dcf0-4d43-8e6a-eb27cb7932e4"
      },
      "outputs": [
        {
          "name": "stdout",
          "output_type": "stream",
          "text": [
            "['0', '1', '2', '3', '4', '5', '6', '7', '8', '9', 'A', 'B', 'C', 'D', 'E', 'F', 'G', 'H', 'I', 'J', 'K', 'L', 'M', 'N', 'O', 'P', 'Q', 'R', 'S', 'T', 'U', 'V', 'W', 'X', 'Y', 'Z', 'a', 'b', 'd', 'e', 'f', 'g', 'h', 'n', 'q', 'r', 't']\n"
          ]
        }
      ],
      "source": [
        "classes = EMNIST(root='data/', split='bymerge', train=True, download=True, transform=transform).classes\n",
        "print(classes)"
      ]
    },
    {
      "cell_type": "code",
      "execution_count": 19,
      "metadata": {
        "colab": {
          "base_uri": "https://localhost:8080/",
          "height": 1000
        },
        "id": "tegBOmYoV4uC",
        "outputId": "3a87a909-a685-4220-a2c2-7265173597ae"
      },
      "outputs": [],
      "source": [
        "# Function to display an image\n",
        "def imshow(img, label):\n",
        "    img = img / 2 + 0.5  # unnormalize\n",
        "    npimg = img.numpy()\n",
        "    plt.imshow(np.transpose(npimg, (1, 2, 0)), cmap='gray')\n",
        "    plt.title(f'Label: {label}')\n",
        "    plt.axis('off')\n",
        "    plt.show()\n",
        "\n",
        "# # Select 3 random images from the dataset\n",
        "# random_indices = random.sample(range(len(train_dataset)), 5)\n",
        "\n",
        "# for idx in random_indices:\n",
        "#     img, label = train_dataset[idx]\n",
        "#     imshow(img, classes[label])\n"
      ]
    },
    {
      "cell_type": "code",
      "execution_count": 20,
      "metadata": {
        "id": "WUfWY6C1V97w"
      },
      "outputs": [],
      "source": [
        "\n",
        "validation_split = 0.1\n",
        "shuffle_dataset=True\n",
        "random_seed=42"
      ]
    },
    {
      "cell_type": "code",
      "execution_count": 21,
      "metadata": {
        "id": "oXebK5nfWDXT"
      },
      "outputs": [],
      "source": [
        "# Define a simple CNN architecture\n",
        "class SimpleCNN(nn.Module):\n",
        "    def __init__(self):\n",
        "        super(SimpleCNN, self).__init__()\n",
        "        self.conv1 = nn.Conv2d(1, 32, kernel_size=3, padding=1)\n",
        "        self.conv2 = nn.Conv2d(32, 64, kernel_size=3, padding=1)\n",
        "        self.pool = nn.MaxPool2d(kernel_size=2, stride=2, padding=0)\n",
        "        self.fc1 = nn.Linear(64 * 7 * 7, 128)\n",
        "        self.fc2 = nn.Linear(128, 47)  # 47 classes in the 'byclass' split\n",
        "\n",
        "    def forward(self, x):\n",
        "        x = self.pool(torch.relu(self.conv1(x)))\n",
        "        x = self.pool(torch.relu(self.conv2(x)))\n",
        "        x = x.view(-1, 64 * 7 * 7)\n",
        "        x = torch.relu(self.fc1(x))\n",
        "        x = self.fc2(x)\n",
        "        return x"
      ]
    },
    {
      "cell_type": "code",
      "execution_count": 22,
      "metadata": {
        "id": "PZkdXT1HWYDO"
      },
      "outputs": [
        {
          "data": {
            "text/plain": [
              "SimpleCNN(\n",
              "  (conv1): Conv2d(1, 32, kernel_size=(3, 3), stride=(1, 1), padding=(1, 1))\n",
              "  (conv2): Conv2d(32, 64, kernel_size=(3, 3), stride=(1, 1), padding=(1, 1))\n",
              "  (pool): MaxPool2d(kernel_size=2, stride=2, padding=0, dilation=1, ceil_mode=False)\n",
              "  (fc1): Linear(in_features=3136, out_features=128, bias=True)\n",
              "  (fc2): Linear(in_features=128, out_features=47, bias=True)\n",
              ")"
            ]
          },
          "execution_count": 22,
          "metadata": {},
          "output_type": "execute_result"
        }
      ],
      "source": [
        "model = SimpleCNN()\n",
        "# Run code from here to use pretrained weights\n",
        "model.load_state_dict(torch.load(\"./model3_weights.pth\"))\n",
        "\n",
        "# Move the model to the appropriate device\n",
        "device = torch.device(\"cuda\" if torch.cuda.is_available() else \"cpu\")\n",
        "model.to(device)"
      ]
    },
    {
      "cell_type": "code",
      "execution_count": 23,
      "metadata": {
        "id": "9Oj90mOhWkJI"
      },
      "outputs": [],
      "source": [
        "# Function to preprocess the image\n",
        "def preprocess_image(image_path, invert=False, resize=True, show_output=True):\n",
        "    # Open the image file\n",
        "    img = Image.open(image_path).convert('L')  # Convert to grayscale ('L' mode)\n",
        "\n",
        "    if invert:\n",
        "        # Invert the colors\n",
        "        img = ImageOps.invert(img)\n",
        "\n",
        "        if show_output:\n",
        "            # Display the original grayscale image\n",
        "            plt.figure()\n",
        "            plt.title(\"Inverted Grayscale Image\")\n",
        "            plt.imshow(img, cmap='gray')\n",
        "            plt.axis('off')\n",
        "            plt.show()\n",
        "\n",
        "    if resize:\n",
        "        # Resize the image to 28x28\n",
        "        img = img.resize((28, 28))\n",
        "\n",
        "        if show_output:\n",
        "            # Display the resized image\n",
        "            plt.figure()\n",
        "            plt.title(\"Resized Image (28x28)\")\n",
        "            plt.imshow(img, cmap='gray')\n",
        "            plt.axis('off')\n",
        "            plt.show()\n",
        "\n",
        "    # Define the transformations: convert to tensor and normalize\n",
        "    transform = transforms.Compose([\n",
        "        transforms.ToTensor(),\n",
        "        transforms.Normalize((0.5,), (0.5,))\n",
        "    ])\n",
        "\n",
        "    # Apply the transformations\n",
        "    img_tensor = transform(img)\n",
        "\n",
        "    # Add batch dimension (1, 1, 28, 28)\n",
        "    img_tensor = img_tensor.unsqueeze(0)\n",
        "\n",
        "    return img, img_tensor"
      ]
    },
    {
      "cell_type": "code",
      "execution_count": 24,
      "metadata": {
        "id": "Adnh_XJ9Wwgu"
      },
      "outputs": [],
      "source": [
        "model.eval()  # Set the model to evaluation mode\n",
        "\n",
        "# Function to predict the label of the processed image\n",
        "def predict_image(model, image_tensor):\n",
        "    with torch.no_grad():\n",
        "        outputs = model(image_tensor.to(device))\n",
        "        probabilities = torch.nn.functional.softmax(outputs, dim=1)\n",
        "        _, predicted = torch.max(outputs.data, 1)\n",
        "        return predicted.item(), probabilities.squeeze().cpu().numpy()"
      ]
    },
    {
      "cell_type": "code",
      "execution_count": 25,
      "metadata": {},
      "outputs": [],
      "source": [
        "def create_output_dirs(output_dir):\n",
        "    if not os.path.isdir(output_dir):\n",
        "        os.makedirs(output_dir)\n",
        "    for output_class in classes:\n",
        "        dir_name = os.path.join(output_dir, output_class)\n",
        "        if not os.path.isdir(dir_name):\n",
        "            os.makedirs(dir_name)\n",
        "\n",
        "# Example usage\n",
        "def get_image_output(image_path, output_dir, save_image=False, show_output=True):\n",
        "    create_output_dirs(output_dir)\n",
        "    \n",
        "    processed_image, image_tensor = preprocess_image(image_path, show_output=show_output)  # Process the image\n",
        "    \n",
        "\n",
        "    predicted_label, probabilities = predict_image(model, image_tensor)\n",
        "\n",
        "    if save_image:\n",
        "        output_name = os.path.basename(image_path)\n",
        "        # Save the processed image\n",
        "        processed_image.save(os.path.join(output_dir, classes[predicted_label], output_name))\n",
        "    # Save the processed image\n",
        "    \n",
        "    \n",
        "    if show_output:\n",
        "        # Show the prediction\n",
        "        print(f'Predicted Label: {classes[predicted_label]}')\n",
        "\n",
        "        # Get the top 5 probabilities and their indices\n",
        "        top5_probabilities_indices = np.argsort(probabilities)[-5:]  # Get indices of top 5 probabilities\n",
        "        top5_probabilities_indices = top5_probabilities_indices[::-1]  # Reverse to get descending order\n",
        "\n",
        "        # Print the probabilities for all classes\n",
        "        print('Top 5 Probabilities:')\n",
        "        for idx in top5_probabilities_indices:\n",
        "            print(f'{classes[idx]}: {probabilities[idx]:.4f}')"
      ]
    },
    {
      "cell_type": "markdown",
      "metadata": {},
      "source": [
        "## Testing ground"
      ]
    },
    {
      "cell_type": "code",
      "execution_count": 68,
      "metadata": {},
      "outputs": [],
      "source": [
        "from collections import defaultdict"
      ]
    },
    {
      "cell_type": "code",
      "execution_count": 69,
      "metadata": {},
      "outputs": [],
      "source": [
        "def load_dataset(folder, classes=None):\n",
        "    if classes is None:\n",
        "        classes = [dir for dir in os.listdir(folder) if os.path.isdir(os.path.join(folder, dir))]\n",
        "        \n",
        "    dataset = defaultdict(list)\n",
        "    for img_class in classes:\n",
        "        class_folder = os.path.join(folder, img_class)\n",
        "        for img_name in os.listdir(class_folder):\n",
        "            img_path = os.path.join(class_folder, img_name)\n",
        "            dataset[img_class].append(img_path)\n",
        "            \n",
        "    return dataset"
      ]
    },
    {
      "cell_type": "code",
      "execution_count": 70,
      "metadata": {},
      "outputs": [],
      "source": [
        "def get_total_accuracy(dataset, model):\n",
        "    correct = 0\n",
        "    total = 0\n",
        "    for img_class, img_paths in dataset.items():\n",
        "        for img_path in img_paths:\n",
        "            img, img_tensor = preprocess_image(img_path, show_output=False)\n",
        "            predicted_label, _ = predict_image(model, img_tensor)\n",
        "            if img_class == classes[predicted_label]:\n",
        "                correct += 1\n",
        "            total += 1\n",
        "    return correct / total "
      ]
    },
    {
      "cell_type": "code",
      "execution_count": 71,
      "metadata": {},
      "outputs": [],
      "source": [
        "def get_mean_probability_per_class(dataset, model):\n",
        "    predicition_probabilities = defaultdict(list)\n",
        "    for img_class, img_paths in dataset.items():\n",
        "        for img_path in img_paths:\n",
        "            img, img_tensor = preprocess_image(img_path, show_output=False)\n",
        "            _, probabilities = predict_image(model, img_tensor)\n",
        "            prob_correct_class = probabilities[classes.index(img_class)]\n",
        "            predicition_probabilities[img_class].append(prob_correct_class)\n",
        "            \n",
        "    mean_probabilities = {}\n",
        "    for img_class, probabilities in predicition_probabilities.items():\n",
        "        mean_probabilities[img_class] = np.mean(probabilities)\n",
        "    \n",
        "    return mean_probabilities\n"
      ]
    },
    {
      "cell_type": "code",
      "execution_count": 135,
      "metadata": {},
      "outputs": [],
      "source": [
        "# For each class, get the true positive count, false positive count, and false negative count\n",
        "def get_image_statistics(parent_folder, images_names, model, classes):\n",
        "    resultant_stats = {}\n",
        "\n",
        "    for image_name in images_names:\n",
        "        data_stats = defaultdict(dict, {class_name: {'tp': 0, 'fp': 0, 'fn': 0} for class_name in classes})\n",
        "\n",
        "        dataset_folder = os.path.join(parent_folder, image_name, 'letters')\n",
        "        dataset = load_dataset(dataset_folder, classes)\n",
        "        \n",
        "        for true_class, img_paths in dataset.items():\n",
        "            for img_path in img_paths:\n",
        "                _, img_tensor = preprocess_image(img_path, show_output=False)\n",
        "                predicted_label, _ = predict_image(model, img_tensor)\n",
        "                predicted_class = classes[predicted_label]\n",
        "                \n",
        "                if predicted_class == true_class:\n",
        "                    data_stats[true_class]['tp'] += 1\n",
        "                else:\n",
        "                    data_stats[true_class]['fn'] += 1\n",
        "                    data_stats[predicted_class]['fp'] += 1\n",
        "        resultant_stats[image_name] = data_stats\n",
        "    \n",
        "    return resultant_stats"
      ]
    },
    {
      "cell_type": "markdown",
      "metadata": {},
      "source": [
        "### Test accuracy & probability"
      ]
    },
    {
      "cell_type": "code",
      "execution_count": 80,
      "metadata": {},
      "outputs": [
        {
          "name": "stdout",
          "output_type": "stream",
          "text": [
            "For open2.jpeg: Accuracy : 71.5596 | Mean Probability of correct_class : 0.7741\n",
            "For sample1.jpeg: Accuracy : 73.7968 | Mean Probability of correct_class : 0.7330\n",
            "For blank.jpeg: Accuracy : 64.2105 | Mean Probability of correct_class : 0.6802\n",
            "For open1.jpeg: Accuracy : 69.6809 | Mean Probability of correct_class : 0.7406\n",
            "\n",
            "Mean accuracy: 69.8120\n"
          ]
        }
      ],
      "source": [
        "\n",
        "parent_folder = '/home/yilliee/ArhamSoft/Contour_NN_test'\n",
        "images_folder = os.path.join(parent_folder, 'test_images')\n",
        "images_names = os.listdir(images_folder)\n",
        "\n",
        "accuracy_data = {}\n",
        "probabilities_data = {}\n",
        "\n",
        "for image_name in images_names:\n",
        "    dataset_folder = os.path.join(parent_folder, image_name, 'letters')\n",
        "    dataset = load_dataset(dataset_folder, classes)\n",
        "    \n",
        "    accuracy = get_total_accuracy(dataset, model) * 100\n",
        "    accuracy_data[image_name] = accuracy\n",
        "        \n",
        "    mean_prob = get_mean_probability_per_class(dataset, model)\n",
        "    probabilities_data[image_name] = mean_prob\n",
        "    \n",
        "    print(f'For {image_name}: Accuracy : {accuracy:.4f} | Mean Probability of correct_class : {np.mean(list(mean_prob.values())):.4f}')\n",
        "\n",
        "mean_accuracy = np.mean(list(accuracy_data.values()))\n",
        "print(f'\\nMean accuracy: {mean_accuracy:.4f}')"
      ]
    },
    {
      "cell_type": "code",
      "execution_count": 136,
      "metadata": {},
      "outputs": [],
      "source": [
        "per_image_stats = get_image_statistics(parent_folder, images_names, model, classes)"
      ]
    },
    {
      "cell_type": "code",
      "execution_count": 83,
      "metadata": {},
      "outputs": [],
      "source": [
        "import pandas as pd"
      ]
    },
    {
      "cell_type": "code",
      "execution_count": 137,
      "metadata": {},
      "outputs": [],
      "source": [
        "with pd.ExcelWriter('model3_stats.xlsx') as writer:\n",
        "    for image_name, image_stats in per_image_stats.items():\n",
        "        df = pd.DataFrame(per_image_stats[image_name]).T\n",
        "        df.to_excel(excel_writer=writer, sheet_name=image_name, index=True)"
      ]
    },
    {
      "cell_type": "code",
      "execution_count": null,
      "metadata": {},
      "outputs": [],
      "source": []
    },
    {
      "cell_type": "code",
      "execution_count": null,
      "metadata": {},
      "outputs": [],
      "source": []
    }
  ],
  "metadata": {
    "accelerator": "GPU",
    "colab": {
      "gpuType": "T4",
      "provenance": []
    },
    "kernelspec": {
      "display_name": "Python 3",
      "name": "python3"
    },
    "language_info": {
      "codemirror_mode": {
        "name": "ipython",
        "version": 3
      },
      "file_extension": ".py",
      "mimetype": "text/x-python",
      "name": "python",
      "nbconvert_exporter": "python",
      "pygments_lexer": "ipython3",
      "version": "3.12.4"
    }
  },
  "nbformat": 4,
  "nbformat_minor": 0
}

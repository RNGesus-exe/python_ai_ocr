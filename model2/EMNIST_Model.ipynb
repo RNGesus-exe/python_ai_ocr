{
  "cells": [
    {
      "cell_type": "code",
      "execution_count": 1,
      "metadata": {
        "id": "8k-eKn4FinLA"
      },
      "outputs": [],
      "source": [
        "import torch\n",
        "import torch.nn as nn\n",
        "import torch.optim as optim\n",
        "import torchvision.transforms as transforms\n",
        "from torchvision.datasets import EMNIST\n",
        "from torch.utils.data.sampler import SubsetRandomSampler\n",
        "import matplotlib.pyplot as plt\n",
        "from PIL import Image, ImageOps\n",
        "import numpy as np\n",
        "import random"
      ]
    },
    {
      "cell_type": "code",
      "execution_count": 2,
      "metadata": {
        "colab": {
          "base_uri": "https://localhost:8080/"
        },
        "id": "S0p7IOsLYK_6",
        "outputId": "47388229-cb0b-422d-8e79-78e755ee96c4"
      },
      "outputs": [
        {
          "data": {
            "text/plain": [
              "device(type='cuda')"
            ]
          },
          "execution_count": 2,
          "metadata": {},
          "output_type": "execute_result"
        }
      ],
      "source": [
        "device = torch.device(\"cuda\" if torch.cuda.is_available() else \"cpu\")\n",
        "device"
      ]
    },
    {
      "cell_type": "code",
      "execution_count": 3,
      "metadata": {
        "id": "zYguTottNrHt"
      },
      "outputs": [],
      "source": [
        "transform = transforms.Compose([\n",
        "    transforms.RandomHorizontalFlip(p=1.0),  # Flip the image horizontally with 100% probability\n",
        "    transforms.RandomRotation((90, 90)),  # Rotate 90 degrees anti-clockwise\n",
        "    transforms.ToTensor(),\n",
        "    transforms.Normalize((0.5,), (0.5,))\n",
        "])"
      ]
    },
    {
      "cell_type": "code",
      "execution_count": 4,
      "metadata": {
        "id": "Cy9T2g_-OMI6"
      },
      "outputs": [],
      "source": [
        "train_dataset = EMNIST(root='data/', split='byclass', train=True, download=True, transform=transform)\n",
        "test_dataset = EMNIST(root='data/', split='byclass', train=False, download=True, transform=transform)"
      ]
    },
    {
      "cell_type": "code",
      "execution_count": 5,
      "metadata": {
        "colab": {
          "base_uri": "https://localhost:8080/"
        },
        "id": "EbEv9YWqPzA9",
        "outputId": "381a5222-c663-4237-85cd-534ae192c463"
      },
      "outputs": [
        {
          "data": {
            "text/plain": [
              "['0',\n",
              " '1',\n",
              " '2',\n",
              " '3',\n",
              " '4',\n",
              " '5',\n",
              " '6',\n",
              " '7',\n",
              " '8',\n",
              " '9',\n",
              " 'A',\n",
              " 'B',\n",
              " 'C',\n",
              " 'D',\n",
              " 'E',\n",
              " 'F',\n",
              " 'G',\n",
              " 'H',\n",
              " 'I',\n",
              " 'J',\n",
              " 'K',\n",
              " 'L',\n",
              " 'M',\n",
              " 'N',\n",
              " 'O',\n",
              " 'P',\n",
              " 'Q',\n",
              " 'R',\n",
              " 'S',\n",
              " 'T',\n",
              " 'U',\n",
              " 'V',\n",
              " 'W',\n",
              " 'X',\n",
              " 'Y',\n",
              " 'Z',\n",
              " 'a',\n",
              " 'b',\n",
              " 'c',\n",
              " 'd',\n",
              " 'e',\n",
              " 'f',\n",
              " 'g',\n",
              " 'h',\n",
              " 'i',\n",
              " 'j',\n",
              " 'k',\n",
              " 'l',\n",
              " 'm',\n",
              " 'n',\n",
              " 'o',\n",
              " 'p',\n",
              " 'q',\n",
              " 'r',\n",
              " 's',\n",
              " 't',\n",
              " 'u',\n",
              " 'v',\n",
              " 'w',\n",
              " 'x',\n",
              " 'y',\n",
              " 'z']"
            ]
          },
          "execution_count": 5,
          "metadata": {},
          "output_type": "execute_result"
        }
      ],
      "source": [
        "classes = train_dataset.classes\n",
        "classes"
      ]
    },
    {
      "cell_type": "code",
      "execution_count": 6,
      "metadata": {
        "colab": {
          "base_uri": "https://localhost:8080/",
          "height": 1000
        },
        "id": "MQxlTXjAlMlb",
        "outputId": "83d1142d-2423-4412-d282-f947ed391bc6"
      },
      "outputs": [],
      "source": [
        "# Function to display an image\n",
        "def imshow(img, label):\n",
        "    img = img / 2 + 0.5  # unnormalize\n",
        "    npimg = img.numpy()\n",
        "    plt.imshow(np.transpose(npimg, (1, 2, 0)), cmap='gray')\n",
        "    plt.title(f'Label: {label}')\n",
        "    plt.axis('off')\n",
        "    plt.show()\n",
        "\n",
        "# # Select 3 random images from the dataset\n",
        "# random_indices = random.sample(range(len(train_dataset)), 5)\n",
        "\n",
        "# for idx in random_indices:\n",
        "#     img, label = train_dataset[idx]\n",
        "#     imshow(img, classes[label])\n"
      ]
    },
    {
      "cell_type": "code",
      "execution_count": 7,
      "metadata": {
        "id": "RMOhHeuwyabR"
      },
      "outputs": [],
      "source": [
        "validation_split = 0.1\n",
        "shuffle_dataset=True\n",
        "random_seed=42"
      ]
    },
    {
      "cell_type": "code",
      "execution_count": 8,
      "metadata": {
        "colab": {
          "base_uri": "https://localhost:8080/"
        },
        "id": "Q3WrkPFayg8F",
        "outputId": "fb33a860-2c28-4f32-b879-5d6c426a34a0"
      },
      "outputs": [
        {
          "name": "stdout",
          "output_type": "stream",
          "text": [
            "Train Dataset Size: 697932\n"
          ]
        }
      ],
      "source": [
        "dataset_size = len(train_dataset)\n",
        "print(f\"Train Dataset Size: {dataset_size}\")\n",
        "indices = list(range(dataset_size))\n",
        "split = int(np.floor(validation_split * dataset_size))\n",
        "if shuffle_dataset:\n",
        "    np.random.seed(random_seed)\n",
        "    np.random.shuffle(indices)\n",
        "train_indices, val_indices = indices[split:], indices[:split]\n",
        "\n",
        "train_sampler = SubsetRandomSampler(train_indices)\n",
        "val_sampler = SubsetRandomSampler(val_indices)\n",
        "\n",
        "train_loader = torch.utils.data.DataLoader(\n",
        "    train_dataset, batch_size=64, sampler=train_sampler, num_workers=1\n",
        ")\n",
        "val_loader = torch.utils.data.DataLoader(\n",
        "    train_dataset, batch_size=64, sampler=val_sampler, num_workers=1\n",
        ")"
      ]
    },
    {
      "cell_type": "code",
      "execution_count": 9,
      "metadata": {
        "id": "pKPUxsdR1hpl"
      },
      "outputs": [],
      "source": [
        "# Create DataLoader for test dataset\n",
        "test_loader = torch.utils.data.DataLoader(\n",
        "    test_dataset,\n",
        "    batch_size=64,  # Adjust batch size as needed\n",
        "    shuffle=False,  # No need to shuffle the test data\n",
        "    num_workers=1   # Number of subprocesses to use for data loading\n",
        ")"
      ]
    },
    {
      "cell_type": "code",
      "execution_count": 10,
      "metadata": {
        "id": "bNut2iKjYZFi"
      },
      "outputs": [],
      "source": [
        "# Define a simple CNN architecture\n",
        "class SimpleCNN(nn.Module):\n",
        "    def __init__(self):\n",
        "        super(SimpleCNN, self).__init__()\n",
        "        self.conv1 = nn.Conv2d(1, 32, kernel_size=3, padding=1)\n",
        "        self.conv2 = nn.Conv2d(32, 64, kernel_size=3, padding=1)\n",
        "        self.pool = nn.MaxPool2d(kernel_size=2, stride=2, padding=0)\n",
        "        self.fc1 = nn.Linear(64 * 7 * 7, 128)\n",
        "        self.fc2 = nn.Linear(128, 62)  # 62 classes in the 'byclass' split\n",
        "\n",
        "    def forward(self, x):\n",
        "        x = self.pool(torch.relu(self.conv1(x)))\n",
        "        x = self.pool(torch.relu(self.conv2(x)))\n",
        "        x = x.view(-1, 64 * 7 * 7)\n",
        "        x = torch.relu(self.fc1(x))\n",
        "        x = self.fc2(x)\n",
        "        return x"
      ]
    },
    {
      "cell_type": "code",
      "execution_count": 11,
      "metadata": {
        "id": "-PCGZcv6ZT0U"
      },
      "outputs": [],
      "source": [
        "model = SimpleCNN().to(device)\n",
        "criterion = nn.CrossEntropyLoss()\n",
        "optimizer = optim.Adam(model.parameters(), lr=0.001) # Learning rate {0.001 -> 86%}"
      ]
    },
    {
      "cell_type": "code",
      "execution_count": 12,
      "metadata": {
        "id": "XO8CTyTFFXyp"
      },
      "outputs": [],
      "source": [
        "def train_model(model, train_loader, val_loader, criterion, optimizer, device, num_epochs=10):\n",
        "    # Train the model\n",
        "    train_losses = []\n",
        "    val_losses = []\n",
        "\n",
        "    for epoch in range(num_epochs):\n",
        "        running_loss = 0.0\n",
        "        running_corrects = 0\n",
        "        running_total = 0\n",
        "\n",
        "        for i, (inputs, labels) in enumerate(train_loader):\n",
        "            inputs = inputs.to(device)\n",
        "            labels = labels.to(device)\n",
        "\n",
        "            optimizer.zero_grad()\n",
        "            outputs = model(inputs)\n",
        "            loss = criterion(outputs, labels)\n",
        "            loss.backward()\n",
        "            optimizer.step()\n",
        "\n",
        "            running_loss += loss.item() * inputs.size(0)\n",
        "            _, predicted = torch.max(outputs.data, 1)\n",
        "            running_total += labels.size(0)\n",
        "            running_corrects += (predicted == labels).sum().item()\n",
        "\n",
        "            # if i % 100 == 99:\n",
        "                # print(f'Epoch {epoch + 1}, Batch {i + 1}, Loss: {running_loss / 100:.3f}, Correct: {running_corrects / 100:.3f}, Total: {running_total / 100:.3f}')\n",
        "\n",
        "        # Calculate the training loss and training accuracy\n",
        "        train_loss = running_loss / len(train_loader.dataset)\n",
        "        train_accuracy = 100 * running_corrects / running_total\n",
        "        train_losses.append(train_loss)  # Store train_loss\n",
        "\n",
        "        # evaluate on the validation set\n",
        "        correct = 0\n",
        "        total = 0\n",
        "        val_loss = 0.0\n",
        "        model.eval()\n",
        "        with torch.no_grad():\n",
        "            for data in val_loader:\n",
        "                images, labels = data\n",
        "                images = images.to(device)\n",
        "                labels = labels.to(device)\n",
        "\n",
        "                outputs = model(images)\n",
        "                _, predicted = torch.max(outputs.data, 1)\n",
        "                total += labels.size(0)\n",
        "                correct += (predicted == labels).sum().item()\n",
        "                val_loss += criterion(outputs, labels).item() * labels.size(0)\n",
        "\n",
        "        # Calculate the validation accuracy and validation loss\n",
        "        val_accuracy = 100 * correct / total\n",
        "        val_loss /= len(val_loader.dataset)\n",
        "        val_losses.append(val_loss)  # Store val_loss\n",
        "\n",
        "        print(f'Epoch {epoch + 1}, Train Acc:{train_accuracy:.3f}, Train Loss: {train_loss:.3f}, Val Loss: {val_loss:.3f}, Val Acc: {val_accuracy:.3f}')\n",
        "\n",
        "    print('Finished Training')\n",
        "    return train_losses, val_losses"
      ]
    },
    {
      "cell_type": "code",
      "execution_count": 13,
      "metadata": {
        "id": "GAD9nmnDZaN7"
      },
      "outputs": [],
      "source": [
        "# Function to evaluate the model\n",
        "def evaluate_model(model, test_loader, device):\n",
        "    correct = 0\n",
        "    total = 0\n",
        "    with torch.no_grad():\n",
        "        for inputs, labels in test_loader:\n",
        "            inputs, labels = inputs.to(device), labels.to(device)\n",
        "            outputs = model(inputs)\n",
        "            _, predicted = torch.max(outputs.data, 1)\n",
        "            total += labels.size(0)\n",
        "            correct += (predicted == labels).sum().item()\n",
        "\n",
        "    print(f'Accuracy of the model on the test images: {100 * correct / total:.2f}%')\n"
      ]
    },
    {
      "cell_type": "code",
      "execution_count": 14,
      "metadata": {
        "colab": {
          "base_uri": "https://localhost:8080/",
          "height": 408
        },
        "id": "xgc7FuV8ZcSl",
        "outputId": "10f6d960-b668-47cc-b7c7-0437af224f50"
      },
      "outputs": [
        {
          "data": {
            "text/plain": [
              "SimpleCNN(\n",
              "  (conv1): Conv2d(1, 32, kernel_size=(3, 3), stride=(1, 1), padding=(1, 1))\n",
              "  (conv2): Conv2d(32, 64, kernel_size=(3, 3), stride=(1, 1), padding=(1, 1))\n",
              "  (pool): MaxPool2d(kernel_size=2, stride=2, padding=0, dilation=1, ceil_mode=False)\n",
              "  (fc1): Linear(in_features=3136, out_features=128, bias=True)\n",
              "  (fc2): Linear(in_features=128, out_features=62, bias=True)\n",
              ")"
            ]
          },
          "execution_count": 14,
          "metadata": {},
          "output_type": "execute_result"
        }
      ],
      "source": [
        "# Train the model\n",
        "# train_losses, val_losses = train_model(model, train_loader, val_loader, criterion, optimizer, device, num_epochs=10)\n",
        "# Run code from here to use pretrained weights\n",
        "model.load_state_dict(torch.load(\"model2_weights.pth\"))\n",
        "model.to(device)"
      ]
    },
    {
      "cell_type": "code",
      "execution_count": 15,
      "metadata": {
        "colab": {
          "base_uri": "https://localhost:8080/",
          "height": 449
        },
        "id": "CbMXXDCxzbaZ",
        "outputId": "385d46d9-ac4b-44f5-e805-a9868689a10b"
      },
      "outputs": [],
      "source": [
        "# def plot_losses(train_losses, val_losses):\n",
        "#     epochs = range(1, len(train_losses) + 1)\n",
        "    \n",
        "#     plt.figure(figsize=(12, 6))\n",
        "    \n",
        "#     # Plot training loss\n",
        "#     plt.plot(epochs, train_losses, 'bo-', label='Train Loss')\n",
        "    \n",
        "#     # Plot validation loss\n",
        "#     plt.plot(epochs, val_losses, 'ro-', label='Validation Loss')\n",
        "    \n",
        "#     # Add labels and title\n",
        "#     plt.xlabel('Epoch')\n",
        "#     plt.ylabel('Loss')\n",
        "#     plt.title('Training and Validation Loss over Epochs')\n",
        "#     plt.legend()\n",
        "#     plt.grid(True)\n",
        "#     plt.show()\n",
        "\n",
        "# plot_losses(train_losses, val_losses)\n"
      ]
    },
    {
      "cell_type": "code",
      "execution_count": 16,
      "metadata": {
        "colab": {
          "base_uri": "https://localhost:8080/"
        },
        "id": "6Y26Ju32ZdwJ",
        "outputId": "19561edf-3ef3-4a91-c2d5-3710ed642123"
      },
      "outputs": [
        {
          "name": "stdout",
          "output_type": "stream",
          "text": [
            "Accuracy of the model on the test images: 86.33%\n"
          ]
        }
      ],
      "source": [
        "# Evaluate the model\n",
        "evaluate_model(model, test_loader, device)"
      ]
    },
    {
      "cell_type": "code",
      "execution_count": 17,
      "metadata": {
        "colab": {
          "base_uri": "https://localhost:8080/",
          "height": 1000
        },
        "id": "v6T_uT2svUQt",
        "outputId": "d6fa031f-f825-4768-ad33-722519fc7a78"
      },
      "outputs": [],
      "source": [
        "# def show_misclassified_images(model, dataloader, device):\n",
        "#     model.eval()\n",
        "#     misclassified = []\n",
        "#     with torch.no_grad():\n",
        "#         for images, labels in dataloader:\n",
        "#             images, labels = images.to(device), labels.to(device)\n",
        "#             outputs = model(images)\n",
        "#             _, predicted = torch.max(outputs.data, 1)\n",
        "#             for i in range(len(labels)):\n",
        "#                 if predicted[i] != labels[i]:\n",
        "#                     misclassified.append((images[i].cpu(), predicted[i].item(), labels[i].item()))\n",
        "\n",
        "#     for img, pred, actual in misclassified[:10]:  # Show the first 10 misclassified images\n",
        "#         img = img.squeeze().numpy()\n",
        "#         plt.imshow(img, cmap='gray')\n",
        "#         plt.title(f'Predicted: {classes[pred]}, Actual: {classes[actual]}')\n",
        "#         plt.show()\n",
        "\n",
        "# # Analyze misclassifications\n",
        "# show_misclassified_images(model, val_loader, device)\n",
        "\n"
      ]
    },
    {
      "cell_type": "code",
      "execution_count": 42,
      "metadata": {
        "colab": {
          "base_uri": "https://localhost:8080/",
          "height": 856
        },
        "id": "slri7ORsC9gd",
        "outputId": "852a0f91-d1d1-4b7c-ee7c-789ef2f09567"
      },
      "outputs": [],
      "source": [
        "# Function to preprocess the image\n",
        "def preprocess_image(image_path, invert=False, resize=True, show_output=True):\n",
        "    # Open the image file\n",
        "    img = Image.open(image_path).convert('L')  # Convert to grayscale ('L' mode)\n",
        "\n",
        "    if invert:\n",
        "        # Invert the colors\n",
        "        img = ImageOps.invert(img)\n",
        "\n",
        "        if show_output:\n",
        "            # Display the original grayscale image\n",
        "            plt.figure()\n",
        "            plt.title(\"Inverted Grayscale Image\")\n",
        "            plt.imshow(img, cmap='gray')\n",
        "            plt.axis('off')\n",
        "            plt.show()\n",
        "\n",
        "    if resize:\n",
        "        # Resize the image to 28x28\n",
        "        img = img.resize((28, 28))\n",
        "\n",
        "        if show_output:\n",
        "            # Display the resized image\n",
        "            plt.figure()\n",
        "            plt.title(\"Resized Image (28x28)\")\n",
        "            plt.imshow(img, cmap='gray')\n",
        "            plt.axis('off')\n",
        "            plt.show()\n",
        "\n",
        "    # Define the transformations: convert to tensor and normalize\n",
        "    transform = transforms.Compose([\n",
        "        transforms.ToTensor(),\n",
        "        transforms.Normalize((0.5,), (0.5,))\n",
        "    ])\n",
        "\n",
        "    # Apply the transformations\n",
        "    img_tensor = transform(img)\n",
        "\n",
        "    # Add batch dimension (1, 1, 28, 28)\n",
        "    img_tensor = img_tensor.unsqueeze(0)\n",
        "\n",
        "    return img, img_tensor"
      ]
    },
    {
      "cell_type": "code",
      "execution_count": 19,
      "metadata": {
        "id": "qpSewnOKDWVI"
      },
      "outputs": [
        {
          "data": {
            "image/png": "[encoded data removed]",
            "text/plain": [
              "<Figure size 640x480 with 1 Axes>"
            ]
          },
          "metadata": {},
          "output_type": "display_data"
        },
        {
          "data": {
            "image/png": "[encoded data removed]",
            "text/plain": [
              "<Figure size 640x480 with 1 Axes>"
            ]
          },
          "metadata": {},
          "output_type": "display_data"
        },
        {
          "name": "stdout",
          "output_type": "stream",
          "text": [
            "Predicted Label: B\n",
            "Top 5 Probabilities:\n",
            "B: 0.9996\n",
            "C: 0.0003\n",
            "Q: 0.0001\n",
            "S: 0.0000\n",
            "G: 0.0000\n"
          ]
        }
      ],
      "source": [
        "model.eval()  # Set the model to evaluation mode\n",
        "\n",
        "# Function to predict the label of the processed image\n",
        "def predict_image(model, image_tensor):\n",
        "    with torch.no_grad():\n",
        "        outputs = model(image_tensor.to(device))\n",
        "        probabilities = torch.nn.functional.softmax(outputs, dim=1)\n",
        "        _, predicted = torch.max(outputs.data, 1)\n",
        "        return predicted.item(), probabilities.squeeze().cpu().numpy()\n",
        "\n",
        "# Example usage\n",
        "image_path = 'letter_seg/4.png'  # Replace with your image path\n",
        "processed_image = preprocess_image(image_path)  # Process the image\n",
        "\n",
        "predicted_label, probabilities = predict_image(model, processed_image)\n",
        "\n",
        "# Predict the label of the image\n",
        "print(f'Predicted Label: {classes[predicted_label]}')\n",
        "\n",
        "# Get the top 5 probabilities and their indices\n",
        "top5_probabilities_indices = np.argsort(probabilities)[-5:]  # Get indices of top 5 probabilities\n",
        "top5_probabilities_indices = top5_probabilities_indices[::-1]  # Reverse to get descending order\n",
        "\n",
        "# Print the probabilities for all classes\n",
        "print('Top 5 Probabilities:')\n",
        "for idx in top5_probabilities_indices:\n",
        "    print(f'{classes[idx]}: {probabilities[idx]:.4f}')"
      ]
    },
    {
      "cell_type": "code",
      "execution_count": 20,
      "metadata": {},
      "outputs": [],
      "source": [
        "# Function to evaluate the model\n",
        "def evaluate_model(model, test_loader, device):\n",
        "    correct = 0\n",
        "    total = 0\n",
        "    with torch.no_grad():\n",
        "        for inputs, labels in test_loader:\n",
        "            inputs, labels = inputs.to(device), labels.to(device)\n",
        "            outputs = model(inputs)\n",
        "            _, predicted = torch.max(outputs.data, 1)\n",
        "            total += labels.size(0)\n",
        "            correct += (predicted == labels).sum().item()\n",
        "\n",
        "    print(f'Accuracy of the model on the test images: {100 * correct / total:.2f}%')\n"
      ]
    },
    {
      "cell_type": "code",
      "execution_count": 21,
      "metadata": {},
      "outputs": [
        {
          "data": {
            "text/plain": [
              "SimpleCNN(\n",
              "  (conv1): Conv2d(1, 32, kernel_size=(3, 3), stride=(1, 1), padding=(1, 1))\n",
              "  (conv2): Conv2d(32, 64, kernel_size=(3, 3), stride=(1, 1), padding=(1, 1))\n",
              "  (pool): MaxPool2d(kernel_size=2, stride=2, padding=0, dilation=1, ceil_mode=False)\n",
              "  (fc1): Linear(in_features=3136, out_features=128, bias=True)\n",
              "  (fc2): Linear(in_features=128, out_features=62, bias=True)\n",
              ")"
            ]
          },
          "execution_count": 21,
          "metadata": {},
          "output_type": "execute_result"
        }
      ],
      "source": [
        "# Run code from here to use pretrained weights\n",
        "model.load_state_dict(torch.load(\"model2_weights.pth\"))\n",
        "\n",
        "# Move the model to the appropriate device\n",
        "device = torch.device(\"cuda\" if torch.cuda.is_available() else \"cpu\")\n",
        "model.to(device)"
      ]
    },
    {
      "cell_type": "code",
      "execution_count": 22,
      "metadata": {},
      "outputs": [
        {
          "data": {
            "image/png": "[encoded data removed]",
            "text/plain": [
              "<Figure size 640x480 with 1 Axes>"
            ]
          },
          "metadata": {},
          "output_type": "display_data"
        },
        {
          "data": {
            "image/png": "[encoded data removed]",
            "text/plain": [
              "<Figure size 640x480 with 1 Axes>"
            ]
          },
          "metadata": {},
          "output_type": "display_data"
        },
        {
          "name": "stdout",
          "output_type": "stream",
          "text": [
            "Predicted Label: D\n",
            "Top 5 Probabilities:\n",
            "D: 0.8661\n",
            "T: 0.1272\n",
            "S: 0.0061\n",
            "J: 0.0003\n",
            "F: 0.0002\n"
          ]
        }
      ],
      "source": [
        "model.eval()  # Set the model to evaluation mode\n",
        "\n",
        "# Function to predict the label of the processed image\n",
        "def predict_image(model, image_tensor):\n",
        "    with torch.no_grad():\n",
        "        outputs = model(image_tensor.to(device))\n",
        "        probabilities = torch.nn.functional.softmax(outputs, dim=1)\n",
        "        _, predicted = torch.max(outputs.data, 1)\n",
        "        return predicted.item(), probabilities.squeeze().cpu().numpy()\n",
        "\n",
        "# Example usage\n",
        "image_path = 'letter_seg/2.png'  # Replace with your image path\n",
        "processed_image = preprocess_image(image_path)  # Process the image\n",
        "\n",
        "predicted_label, probabilities = predict_image(model, processed_image)\n",
        "\n",
        "# Predict the label of the image\n",
        "print(f'Predicted Label: {classes[predicted_label]}')\n",
        "\n",
        "# Get the top 5 probabilities and their indices\n",
        "top5_probabilities_indices = np.argsort(probabilities)[-5:]  # Get indices of top 5 probabilities\n",
        "top5_probabilities_indices = top5_probabilities_indices[::-1]  # Reverse to get descending order\n",
        "\n",
        "# Print the probabilities for all classes\n",
        "print('Top 5 Probabilities:')\n",
        "for idx in top5_probabilities_indices:\n",
        "    print(f'{classes[idx]}: {probabilities[idx]:.4f}')"
      ]
    },
    {
      "cell_type": "markdown",
      "metadata": {},
      "source": [
        "## Testing ground"
      ]
    },
    {
      "cell_type": "code",
      "execution_count": 31,
      "metadata": {},
      "outputs": [],
      "source": [
        "from collections import defaultdict\n",
        "import pandas as pd\n",
        "import os\n"
      ]
    },
    {
      "cell_type": "code",
      "execution_count": 37,
      "metadata": {},
      "outputs": [],
      "source": [
        "def load_dataset(folder, classes=None):\n",
        "    if classes is None:\n",
        "        classes = [dir for dir in os.listdir(folder) if os.path.isdir(os.path.join(folder, dir))]\n",
        "        \n",
        "    dataset = defaultdict(list)\n",
        "    for img_class in classes:\n",
        "        class_folder = os.path.join(folder, img_class)\n",
        "        if not os.path.isdir(class_folder):\n",
        "            continue\n",
        "        for img_name in os.listdir(class_folder):\n",
        "            img_path = os.path.join(class_folder, img_name)\n",
        "            dataset[img_class].append(img_path)\n",
        "            \n",
        "    return dataset"
      ]
    },
    {
      "cell_type": "code",
      "execution_count": 38,
      "metadata": {},
      "outputs": [],
      "source": [
        "def get_total_accuracy(dataset, model):\n",
        "    correct = 0\n",
        "    total = 0\n",
        "    for img_class, img_paths in dataset.items():\n",
        "        for img_path in img_paths:\n",
        "            img, img_tensor = preprocess_image(img_path, show_output=False)\n",
        "            predicted_label, _ = predict_image(model, img_tensor)\n",
        "            if img_class == classes[predicted_label]:\n",
        "                correct += 1\n",
        "            total += 1\n",
        "    return correct / total"
      ]
    },
    {
      "cell_type": "code",
      "execution_count": 39,
      "metadata": {},
      "outputs": [],
      "source": [
        "def get_mean_probability_per_class(dataset, model):\n",
        "    predicition_probabilities = defaultdict(list)\n",
        "    for img_class, img_paths in dataset.items():\n",
        "        for img_path in img_paths:\n",
        "            img, img_tensor = preprocess_image(img_path, show_output=False)\n",
        "            _, probabilities = predict_image(model, img_tensor)\n",
        "            prob_correct_class = probabilities[classes.index(img_class)]\n",
        "            predicition_probabilities[img_class].append(prob_correct_class)\n",
        "            \n",
        "    mean_probabilities = {}\n",
        "    for img_class, probabilities in predicition_probabilities.items():\n",
        "        mean_probabilities[img_class] = np.mean(probabilities)\n",
        "    \n",
        "    return mean_probabilities\n"
      ]
    },
    {
      "cell_type": "code",
      "execution_count": 40,
      "metadata": {},
      "outputs": [],
      "source": [
        "# For each class, get the true positive count, false positive count, and false negative count\n",
        "def get_image_statistics(parent_folder, images_names, model, classes):\n",
        "    resultant_stats = {}\n",
        "\n",
        "    for image_name in images_names:\n",
        "        data_stats = defaultdict(dict, {class_name: {'tp': 0, 'fp': 0, 'fn': 0} for class_name in classes})\n",
        "\n",
        "        dataset_folder = os.path.join(parent_folder, image_name, 'letters')\n",
        "        dataset = load_dataset(dataset_folder, classes)\n",
        "        \n",
        "        for true_class, img_paths in dataset.items():\n",
        "            for img_path in img_paths:\n",
        "                _, img_tensor = preprocess_image(img_path, show_output=False)\n",
        "                predicted_label, _ = predict_image(model, img_tensor)\n",
        "                predicted_class = classes[predicted_label]\n",
        "                \n",
        "                if predicted_class == true_class:\n",
        "                    data_stats[true_class]['tp'] += 1\n",
        "                else:\n",
        "                    data_stats[true_class]['fn'] += 1\n",
        "                    data_stats[predicted_class]['fp'] += 1\n",
        "        resultant_stats[image_name] = data_stats\n",
        "    \n",
        "    return resultant_stats"
      ]
    },
    {
      "cell_type": "code",
      "execution_count": 44,
      "metadata": {},
      "outputs": [
        {
          "name": "stdout",
          "output_type": "stream",
          "text": [
            "For open2.jpeg: Accuracy : 66.2222 | Mean Probability of correct_class : 0.7461\n",
            "For sample1.jpeg: Accuracy : 59.0909 | Mean Probability of correct_class : 0.6806\n",
            "For blank.jpeg: Accuracy : 51.0000 | Mean Probability of correct_class : 0.6038\n",
            "For open1.jpeg: Accuracy : 65.9898 | Mean Probability of correct_class : 0.6555\n",
            "\n",
            "Mean accuracy: 60.5757\n"
          ]
        }
      ],
      "source": [
        "\n",
        "parent_folder = '/home/yilliee/ArhamSoft/Contour_NN_test'\n",
        "images_folder = os.path.join(parent_folder, 'test_images')\n",
        "images_names = os.listdir(images_folder)\n",
        "\n",
        "accuracy_data = {}\n",
        "probabilities_data = {}\n",
        "\n",
        "for image_name in images_names:\n",
        "    dataset_folder = os.path.join(parent_folder, image_name, 'letters')\n",
        "    dataset = load_dataset(dataset_folder, classes)\n",
        "    \n",
        "    accuracy = get_total_accuracy(dataset, model) * 100\n",
        "    accuracy_data[image_name] = accuracy\n",
        "        \n",
        "    mean_prob = get_mean_probability_per_class(dataset, model)\n",
        "    probabilities_data[image_name] = mean_prob\n",
        "    \n",
        "    print(f'For {image_name}: Accuracy : {accuracy:.4f} | Mean Probability of correct_class : {np.mean(list(mean_prob.values())):.4f}')\n",
        "\n",
        "mean_accuracy = np.mean(list(accuracy_data.values()))\n",
        "print(f'\\nMean accuracy: {mean_accuracy:.4f}')"
      ]
    },
    {
      "cell_type": "code",
      "execution_count": 45,
      "metadata": {},
      "outputs": [],
      "source": [
        "per_image_stats = get_image_statistics(parent_folder, images_names, model, classes)"
      ]
    },
    {
      "cell_type": "code",
      "execution_count": 47,
      "metadata": {},
      "outputs": [],
      "source": [
        "with pd.ExcelWriter('model2_stats.xlsx') as writer:\n",
        "    for image_name, image_stats in per_image_stats.items():\n",
        "        df = pd.DataFrame(per_image_stats[image_name]).T\n",
        "        df.to_excel(excel_writer=writer, sheet_name=image_name, index=True)"
      ]
    },
    {
      "cell_type": "markdown",
      "metadata": {},
      "source": [
        "## Testing ground"
      ]
    }
  ],
  "metadata": {
    "accelerator": "GPU",
    "colab": {
      "gpuType": "T4",
      "provenance": []
    },
    "kernelspec": {
      "display_name": "Python 3",
      "name": "python3"
    },
    "language_info": {
      "codemirror_mode": {
        "name": "ipython",
        "version": 3
      },
      "file_extension": ".py",
      "mimetype": "text/x-python",
      "name": "python",
      "nbconvert_exporter": "python",
      "pygments_lexer": "ipython3",
      "version": "3.12.4"
    }
  },
  "nbformat": 4,
  "nbformat_minor": 0
}
